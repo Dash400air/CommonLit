{
  "nbformat": 4,
  "nbformat_minor": 0,
  "metadata": {
    "kernelspec": {
      "language": "python",
      "display_name": "Python 3",
      "name": "python3"
    },
    "language_info": {
      "name": "python",
      "version": "3.7.10",
      "mimetype": "text/x-python",
      "codemirror_mode": {
        "name": "ipython",
        "version": 3
      },
      "pygments_lexer": "ipython3",
      "nbconvert_exporter": "python",
      "file_extension": ".py"
    },
    "colab": {
      "name": "commonlit-v2.ipynb",
      "provenance": [],
      "include_colab_link": true
    },
    "accelerator": "GPU"
  },
  "cells": [
    {
      "cell_type": "markdown",
      "metadata": {
        "id": "view-in-github",
        "colab_type": "text"
      },
      "source": [
        "<a href=\"https://colab.research.google.com/github/Dash400air/CommonLit/blob/main/CommonLit_LightGBM%2BRoberta.ipynb\" target=\"_parent\"><img src=\"https://colab.research.google.com/assets/colab-badge.svg\" alt=\"Open In Colab\"/></a>"
      ]
    },
    {
      "cell_type": "markdown",
      "metadata": {
        "id": "56l8t2qwwtSu"
      },
      "source": [
        "# Setup"
      ]
    },
    {
      "cell_type": "code",
      "metadata": {
        "colab": {
          "base_uri": "https://localhost:8080/"
        },
        "id": "4vPM54U3w7We",
        "outputId": "15496f9e-9600-4fec-cfdc-68e584b34dfb"
      },
      "source": [
        "from google.colab import drive\n",
        "drive.mount('/content/drive')"
      ],
      "execution_count": 77,
      "outputs": [
        {
          "output_type": "stream",
          "text": [
            "Drive already mounted at /content/drive; to attempt to forcibly remount, call drive.mount(\"/content/drive\", force_remount=True).\n"
          ],
          "name": "stdout"
        }
      ]
    },
    {
      "cell_type": "code",
      "metadata": {
        "execution": {
          "iopub.status.busy": "2021-07-16T14:34:49.312523Z",
          "iopub.execute_input": "2021-07-16T14:34:49.312933Z",
          "iopub.status.idle": "2021-07-16T14:34:56.931474Z",
          "shell.execute_reply.started": "2021-07-16T14:34:49.312899Z",
          "shell.execute_reply": "2021-07-16T14:34:56.930552Z"
        },
        "trusted": true,
        "colab": {
          "base_uri": "https://localhost:8080/"
        },
        "id": "PMRF0b9bwtSv",
        "outputId": "530a963b-3bed-48a3-80cd-d26d44fd9521"
      },
      "source": [
        "!pip install transformers==4.5.0 pytorch-lightning==1.2.7"
      ],
      "execution_count": 78,
      "outputs": [
        {
          "output_type": "stream",
          "text": [
            "Requirement already satisfied: transformers==4.5.0 in /usr/local/lib/python3.7/dist-packages (4.5.0)\n",
            "Requirement already satisfied: pytorch-lightning==1.2.7 in /usr/local/lib/python3.7/dist-packages (1.2.7)\n",
            "Requirement already satisfied: filelock in /usr/local/lib/python3.7/dist-packages (from transformers==4.5.0) (3.0.12)\n",
            "Requirement already satisfied: tqdm>=4.27 in /usr/local/lib/python3.7/dist-packages (from transformers==4.5.0) (4.41.1)\n",
            "Requirement already satisfied: importlib-metadata; python_version < \"3.8\" in /usr/local/lib/python3.7/dist-packages (from transformers==4.5.0) (4.6.1)\n",
            "Requirement already satisfied: tokenizers<0.11,>=0.10.1 in /usr/local/lib/python3.7/dist-packages (from transformers==4.5.0) (0.10.3)\n",
            "Requirement already satisfied: numpy>=1.17 in /usr/local/lib/python3.7/dist-packages (from transformers==4.5.0) (1.19.5)\n",
            "Requirement already satisfied: sacremoses in /usr/local/lib/python3.7/dist-packages (from transformers==4.5.0) (0.0.45)\n",
            "Requirement already satisfied: requests in /usr/local/lib/python3.7/dist-packages (from transformers==4.5.0) (2.23.0)\n",
            "Requirement already satisfied: packaging in /usr/local/lib/python3.7/dist-packages (from transformers==4.5.0) (21.0)\n",
            "Requirement already satisfied: regex!=2019.12.17 in /usr/local/lib/python3.7/dist-packages (from transformers==4.5.0) (2019.12.20)\n",
            "Requirement already satisfied: torch>=1.4 in /usr/local/lib/python3.7/dist-packages (from pytorch-lightning==1.2.7) (1.9.0+cu102)\n",
            "Requirement already satisfied: torchmetrics>=0.2.0 in /usr/local/lib/python3.7/dist-packages (from pytorch-lightning==1.2.7) (0.4.1)\n",
            "Requirement already satisfied: tensorboard>=2.2.0 in /usr/local/lib/python3.7/dist-packages (from pytorch-lightning==1.2.7) (2.5.0)\n",
            "Requirement already satisfied: fsspec[http]>=0.8.1 in /usr/local/lib/python3.7/dist-packages (from pytorch-lightning==1.2.7) (2021.7.0)\n",
            "Requirement already satisfied: future>=0.17.1 in /usr/local/lib/python3.7/dist-packages (from pytorch-lightning==1.2.7) (0.18.2)\n",
            "Requirement already satisfied: PyYAML!=5.4.*,>=5.1 in /usr/local/lib/python3.7/dist-packages (from pytorch-lightning==1.2.7) (5.3.1)\n",
            "Requirement already satisfied: zipp>=0.5 in /usr/local/lib/python3.7/dist-packages (from importlib-metadata; python_version < \"3.8\"->transformers==4.5.0) (3.5.0)\n",
            "Requirement already satisfied: typing-extensions>=3.6.4; python_version < \"3.8\" in /usr/local/lib/python3.7/dist-packages (from importlib-metadata; python_version < \"3.8\"->transformers==4.5.0) (3.7.4.3)\n",
            "Requirement already satisfied: six in /usr/local/lib/python3.7/dist-packages (from sacremoses->transformers==4.5.0) (1.15.0)\n",
            "Requirement already satisfied: click in /usr/local/lib/python3.7/dist-packages (from sacremoses->transformers==4.5.0) (7.1.2)\n",
            "Requirement already satisfied: joblib in /usr/local/lib/python3.7/dist-packages (from sacremoses->transformers==4.5.0) (1.0.1)\n",
            "Requirement already satisfied: urllib3!=1.25.0,!=1.25.1,<1.26,>=1.21.1 in /usr/local/lib/python3.7/dist-packages (from requests->transformers==4.5.0) (1.24.3)\n",
            "Requirement already satisfied: chardet<4,>=3.0.2 in /usr/local/lib/python3.7/dist-packages (from requests->transformers==4.5.0) (3.0.4)\n",
            "Requirement already satisfied: certifi>=2017.4.17 in /usr/local/lib/python3.7/dist-packages (from requests->transformers==4.5.0) (2021.5.30)\n",
            "Requirement already satisfied: idna<3,>=2.5 in /usr/local/lib/python3.7/dist-packages (from requests->transformers==4.5.0) (2.10)\n",
            "Requirement already satisfied: pyparsing>=2.0.2 in /usr/local/lib/python3.7/dist-packages (from packaging->transformers==4.5.0) (2.4.7)\n",
            "Requirement already satisfied: absl-py>=0.4 in /usr/local/lib/python3.7/dist-packages (from tensorboard>=2.2.0->pytorch-lightning==1.2.7) (0.12.0)\n",
            "Requirement already satisfied: grpcio>=1.24.3 in /usr/local/lib/python3.7/dist-packages (from tensorboard>=2.2.0->pytorch-lightning==1.2.7) (1.34.1)\n",
            "Requirement already satisfied: protobuf>=3.6.0 in /usr/local/lib/python3.7/dist-packages (from tensorboard>=2.2.0->pytorch-lightning==1.2.7) (3.17.3)\n",
            "Requirement already satisfied: werkzeug>=0.11.15 in /usr/local/lib/python3.7/dist-packages (from tensorboard>=2.2.0->pytorch-lightning==1.2.7) (1.0.1)\n",
            "Requirement already satisfied: google-auth-oauthlib<0.5,>=0.4.1 in /usr/local/lib/python3.7/dist-packages (from tensorboard>=2.2.0->pytorch-lightning==1.2.7) (0.4.4)\n",
            "Requirement already satisfied: setuptools>=41.0.0 in /usr/local/lib/python3.7/dist-packages (from tensorboard>=2.2.0->pytorch-lightning==1.2.7) (57.0.0)\n",
            "Requirement already satisfied: tensorboard-plugin-wit>=1.6.0 in /usr/local/lib/python3.7/dist-packages (from tensorboard>=2.2.0->pytorch-lightning==1.2.7) (1.8.0)\n",
            "Requirement already satisfied: markdown>=2.6.8 in /usr/local/lib/python3.7/dist-packages (from tensorboard>=2.2.0->pytorch-lightning==1.2.7) (3.3.4)\n",
            "Requirement already satisfied: wheel>=0.26; python_version >= \"3\" in /usr/local/lib/python3.7/dist-packages (from tensorboard>=2.2.0->pytorch-lightning==1.2.7) (0.36.2)\n",
            "Requirement already satisfied: google-auth<2,>=1.6.3 in /usr/local/lib/python3.7/dist-packages (from tensorboard>=2.2.0->pytorch-lightning==1.2.7) (1.32.1)\n",
            "Requirement already satisfied: tensorboard-data-server<0.7.0,>=0.6.0 in /usr/local/lib/python3.7/dist-packages (from tensorboard>=2.2.0->pytorch-lightning==1.2.7) (0.6.1)\n",
            "Requirement already satisfied: aiohttp; extra == \"http\" in /usr/local/lib/python3.7/dist-packages (from fsspec[http]>=0.8.1->pytorch-lightning==1.2.7) (3.7.4.post0)\n",
            "Requirement already satisfied: requests-oauthlib>=0.7.0 in /usr/local/lib/python3.7/dist-packages (from google-auth-oauthlib<0.5,>=0.4.1->tensorboard>=2.2.0->pytorch-lightning==1.2.7) (1.3.0)\n",
            "Requirement already satisfied: rsa<5,>=3.1.4; python_version >= \"3.6\" in /usr/local/lib/python3.7/dist-packages (from google-auth<2,>=1.6.3->tensorboard>=2.2.0->pytorch-lightning==1.2.7) (4.7.2)\n",
            "Requirement already satisfied: cachetools<5.0,>=2.0.0 in /usr/local/lib/python3.7/dist-packages (from google-auth<2,>=1.6.3->tensorboard>=2.2.0->pytorch-lightning==1.2.7) (4.2.2)\n",
            "Requirement already satisfied: pyasn1-modules>=0.2.1 in /usr/local/lib/python3.7/dist-packages (from google-auth<2,>=1.6.3->tensorboard>=2.2.0->pytorch-lightning==1.2.7) (0.2.8)\n",
            "Requirement already satisfied: attrs>=17.3.0 in /usr/local/lib/python3.7/dist-packages (from aiohttp; extra == \"http\"->fsspec[http]>=0.8.1->pytorch-lightning==1.2.7) (21.2.0)\n",
            "Requirement already satisfied: async-timeout<4.0,>=3.0 in /usr/local/lib/python3.7/dist-packages (from aiohttp; extra == \"http\"->fsspec[http]>=0.8.1->pytorch-lightning==1.2.7) (3.0.1)\n",
            "Requirement already satisfied: yarl<2.0,>=1.0 in /usr/local/lib/python3.7/dist-packages (from aiohttp; extra == \"http\"->fsspec[http]>=0.8.1->pytorch-lightning==1.2.7) (1.6.3)\n",
            "Requirement already satisfied: multidict<7.0,>=4.5 in /usr/local/lib/python3.7/dist-packages (from aiohttp; extra == \"http\"->fsspec[http]>=0.8.1->pytorch-lightning==1.2.7) (5.1.0)\n",
            "Requirement already satisfied: oauthlib>=3.0.0 in /usr/local/lib/python3.7/dist-packages (from requests-oauthlib>=0.7.0->google-auth-oauthlib<0.5,>=0.4.1->tensorboard>=2.2.0->pytorch-lightning==1.2.7) (3.1.1)\n",
            "Requirement already satisfied: pyasn1>=0.1.3 in /usr/local/lib/python3.7/dist-packages (from rsa<5,>=3.1.4; python_version >= \"3.6\"->google-auth<2,>=1.6.3->tensorboard>=2.2.0->pytorch-lightning==1.2.7) (0.4.8)\n"
          ],
          "name": "stdout"
        }
      ]
    },
    {
      "cell_type": "code",
      "metadata": {
        "colab": {
          "base_uri": "https://localhost:8080/"
        },
        "id": "LglnPvjmxvdd",
        "outputId": "13b7aa11-bbb3-448d-d92e-71ad68852e77"
      },
      "source": [
        "!pip install nltk"
      ],
      "execution_count": 79,
      "outputs": [
        {
          "output_type": "stream",
          "text": [
            "Requirement already satisfied: nltk in /usr/local/lib/python3.7/dist-packages (3.2.5)\n",
            "Requirement already satisfied: six in /usr/local/lib/python3.7/dist-packages (from nltk) (1.15.0)\n"
          ],
          "name": "stdout"
        }
      ]
    },
    {
      "cell_type": "code",
      "metadata": {
        "execution": {
          "iopub.status.busy": "2021-07-16T14:34:56.933355Z",
          "iopub.execute_input": "2021-07-16T14:34:56.933746Z",
          "iopub.status.idle": "2021-07-16T14:35:02.986068Z",
          "shell.execute_reply.started": "2021-07-16T14:34:56.933704Z",
          "shell.execute_reply": "2021-07-16T14:35:02.985089Z"
        },
        "trusted": true,
        "colab": {
          "base_uri": "https://localhost:8080/"
        },
        "id": "KoEBtdANwtSy",
        "outputId": "8ed0ff39-3165-4e21-e0ad-4b54b7197499"
      },
      "source": [
        "!pip install textstat"
      ],
      "execution_count": 80,
      "outputs": [
        {
          "output_type": "stream",
          "text": [
            "Requirement already satisfied: textstat in /usr/local/lib/python3.7/dist-packages (0.7.1)\n",
            "Requirement already satisfied: pyphen in /usr/local/lib/python3.7/dist-packages (from textstat) (0.11.0)\n"
          ],
          "name": "stdout"
        }
      ]
    },
    {
      "cell_type": "code",
      "metadata": {
        "execution": {
          "iopub.status.busy": "2021-07-16T14:35:02.988311Z",
          "iopub.execute_input": "2021-07-16T14:35:02.988697Z",
          "iopub.status.idle": "2021-07-16T14:35:12.801716Z",
          "shell.execute_reply.started": "2021-07-16T14:35:02.988651Z",
          "shell.execute_reply": "2021-07-16T14:35:12.800816Z"
        },
        "trusted": true,
        "id": "Ju0smCSYwtS0"
      },
      "source": [
        "import os\n",
        "import pandas as pd\n",
        "import numpy as np\n",
        "\n",
        "\n",
        "import random\n",
        "import glob\n",
        "import re\n",
        "import string\n",
        "from tqdm import tqdm\n",
        "from nltk.corpus import stopwords\n",
        "import nltk\n",
        "from nltk.tokenize import word_tokenize\n",
        "\n",
        "import torch\n",
        "import torch.nn as nn\n",
        "from torch.utils.data import DataLoader\n",
        "from transformers import RobertaTokenizer, RobertaModel\n",
        "import pytorch_lightning as pl\n",
        "\n",
        "from sklearn.metrics import mean_squared_error as mse\n",
        "from sklearn.model_selection import StratifiedKFold, KFold\n",
        "from sklearn.feature_extraction.text import TfidfVectorizer\n",
        "\n",
        "from keras.preprocessing.text import Tokenizer\n",
        "\n",
        "import lightgbm as lgb\n",
        "\n",
        "from fastprogress.fastprogress import  progress_bar"
      ],
      "execution_count": 81,
      "outputs": []
    },
    {
      "cell_type": "code",
      "metadata": {
        "execution": {
          "iopub.status.busy": "2021-07-16T14:35:12.803369Z",
          "iopub.execute_input": "2021-07-16T14:35:12.803709Z",
          "iopub.status.idle": "2021-07-16T14:35:13.047294Z",
          "shell.execute_reply.started": "2021-07-16T14:35:12.803678Z",
          "shell.execute_reply": "2021-07-16T14:35:13.046321Z"
        },
        "trusted": true,
        "id": "0o9aD5ZzwtS1"
      },
      "source": [
        "df = pd.read_csv('/content/drive/MyDrive/Colab Notebooks/data/Common Lit kaggle/train.csv')\n",
        "test_df = pd.read_csv('/content/drive/MyDrive/Colab Notebooks/data/Common Lit kaggle/test.csv')"
      ],
      "execution_count": 102,
      "outputs": []
    },
    {
      "cell_type": "markdown",
      "metadata": {
        "id": "O07rPtdZwtS-"
      },
      "source": [
        "# Textstat"
      ]
    },
    {
      "cell_type": "code",
      "metadata": {
        "execution": {
          "iopub.status.busy": "2021-07-16T14:35:57.019475Z",
          "iopub.execute_input": "2021-07-16T14:35:57.019934Z",
          "iopub.status.idle": "2021-07-16T14:35:57.153854Z",
          "shell.execute_reply.started": "2021-07-16T14:35:57.019881Z",
          "shell.execute_reply": "2021-07-16T14:35:57.152888Z"
        },
        "trusted": true,
        "id": "S5rdzSr_wtS-"
      },
      "source": [
        "import textstat\n",
        "\n",
        "def get_readability(df):\n",
        "    excerpt = df.excerpt\n",
        "    excerpt_list = excerpt.values.tolist()\n",
        "    readability_list = []\n",
        "\n",
        "    for text in excerpt_list: \n",
        "        fre = textstat.flesch_reading_ease(text)\n",
        "        smog = textstat.smog_index(text)\n",
        "        fkg = textstat.flesch_kincaid_grade(text)\n",
        "        cli = textstat.coleman_liau_index(text)\n",
        "        arbi = textstat.automated_readability_index(text)\n",
        "        dcrs = textstat.dale_chall_readability_score(text)\n",
        "        dw = textstat.difficult_words(text)\n",
        "        lwf = textstat.linsear_write_formula(text)\n",
        "        gf = textstat.gunning_fog(text)\n",
        "\n",
        "        readability_list.append([fre, smog, fkg, cli, arbi, dcrs, dw, lwf, gf])\n",
        "    readability = pd.DataFrame(readability_list)\n",
        "    readability = readability.rename(columns={0: 'fre',\n",
        "                                             1: 'smog',\n",
        "                                             2: 'fkg',\n",
        "                                             3: 'cli',\n",
        "                                             4: 'arbi',\n",
        "                                             5: 'dcrs',\n",
        "                                             6: 'dw',\n",
        "                                             7: 'lwf',\n",
        "                                             8: 'gf'\n",
        "                                             }\n",
        "                                    )\n",
        "    return readability"
      ],
      "execution_count": 103,
      "outputs": []
    },
    {
      "cell_type": "code",
      "metadata": {
        "execution": {
          "iopub.status.busy": "2021-07-16T14:35:57.155270Z",
          "iopub.execute_input": "2021-07-16T14:35:57.155800Z",
          "iopub.status.idle": "2021-07-16T14:36:01.616926Z",
          "shell.execute_reply.started": "2021-07-16T14:35:57.155757Z",
          "shell.execute_reply": "2021-07-16T14:36:01.616056Z"
        },
        "trusted": true,
        "id": "iHK-LHH1wtS_"
      },
      "source": [
        "readability_train = get_readability(df)\n",
        "readability_test = get_readability(test_df)"
      ],
      "execution_count": 104,
      "outputs": []
    },
    {
      "cell_type": "code",
      "metadata": {
        "execution": {
          "iopub.status.busy": "2021-07-16T14:36:01.618285Z",
          "iopub.execute_input": "2021-07-16T14:36:01.618640Z",
          "iopub.status.idle": "2021-07-16T14:36:01.635040Z",
          "shell.execute_reply.started": "2021-07-16T14:36:01.618600Z",
          "shell.execute_reply": "2021-07-16T14:36:01.634181Z"
        },
        "trusted": true,
        "colab": {
          "base_uri": "https://localhost:8080/",
          "height": 204
        },
        "id": "9jAIoaYawtS_",
        "outputId": "e53c0584-b60f-4d76-e7b7-4b82d096b79f"
      },
      "source": [
        "readability_train.head()"
      ],
      "execution_count": 105,
      "outputs": [
        {
          "output_type": "execute_result",
          "data": {
            "text/html": [
              "<div>\n",
              "<style scoped>\n",
              "    .dataframe tbody tr th:only-of-type {\n",
              "        vertical-align: middle;\n",
              "    }\n",
              "\n",
              "    .dataframe tbody tr th {\n",
              "        vertical-align: top;\n",
              "    }\n",
              "\n",
              "    .dataframe thead th {\n",
              "        text-align: right;\n",
              "    }\n",
              "</style>\n",
              "<table border=\"1\" class=\"dataframe\">\n",
              "  <thead>\n",
              "    <tr style=\"text-align: right;\">\n",
              "      <th></th>\n",
              "      <th>fre</th>\n",
              "      <th>smog</th>\n",
              "      <th>fkg</th>\n",
              "      <th>cli</th>\n",
              "      <th>arbi</th>\n",
              "      <th>dcrs</th>\n",
              "      <th>dw</th>\n",
              "      <th>lwf</th>\n",
              "      <th>gf</th>\n",
              "    </tr>\n",
              "  </thead>\n",
              "  <tbody>\n",
              "    <tr>\n",
              "      <th>0</th>\n",
              "      <td>80.31</td>\n",
              "      <td>8.6</td>\n",
              "      <td>6.1</td>\n",
              "      <td>8.06</td>\n",
              "      <td>8.3</td>\n",
              "      <td>6.65</td>\n",
              "      <td>25</td>\n",
              "      <td>9.000000</td>\n",
              "      <td>8.31</td>\n",
              "    </tr>\n",
              "    <tr>\n",
              "      <th>1</th>\n",
              "      <td>82.54</td>\n",
              "      <td>8.3</td>\n",
              "      <td>5.2</td>\n",
              "      <td>6.78</td>\n",
              "      <td>7.2</td>\n",
              "      <td>5.92</td>\n",
              "      <td>17</td>\n",
              "      <td>7.285714</td>\n",
              "      <td>7.53</td>\n",
              "    </tr>\n",
              "    <tr>\n",
              "      <th>2</th>\n",
              "      <td>75.74</td>\n",
              "      <td>10.1</td>\n",
              "      <td>7.9</td>\n",
              "      <td>7.20</td>\n",
              "      <td>10.1</td>\n",
              "      <td>6.29</td>\n",
              "      <td>17</td>\n",
              "      <td>14.750000</td>\n",
              "      <td>10.49</td>\n",
              "    </tr>\n",
              "    <tr>\n",
              "      <th>3</th>\n",
              "      <td>72.02</td>\n",
              "      <td>6.7</td>\n",
              "      <td>11.4</td>\n",
              "      <td>8.54</td>\n",
              "      <td>16.4</td>\n",
              "      <td>6.61</td>\n",
              "      <td>14</td>\n",
              "      <td>12.500000</td>\n",
              "      <td>13.61</td>\n",
              "    </tr>\n",
              "    <tr>\n",
              "      <th>4</th>\n",
              "      <td>75.47</td>\n",
              "      <td>8.8</td>\n",
              "      <td>10.0</td>\n",
              "      <td>4.83</td>\n",
              "      <td>11.8</td>\n",
              "      <td>1.57</td>\n",
              "      <td>1</td>\n",
              "      <td>13.500000</td>\n",
              "      <td>11.76</td>\n",
              "    </tr>\n",
              "  </tbody>\n",
              "</table>\n",
              "</div>"
            ],
            "text/plain": [
              "     fre  smog   fkg   cli  arbi  dcrs  dw        lwf     gf\n",
              "0  80.31   8.6   6.1  8.06   8.3  6.65  25   9.000000   8.31\n",
              "1  82.54   8.3   5.2  6.78   7.2  5.92  17   7.285714   7.53\n",
              "2  75.74  10.1   7.9  7.20  10.1  6.29  17  14.750000  10.49\n",
              "3  72.02   6.7  11.4  8.54  16.4  6.61  14  12.500000  13.61\n",
              "4  75.47   8.8  10.0  4.83  11.8  1.57   1  13.500000  11.76"
            ]
          },
          "metadata": {
            "tags": []
          },
          "execution_count": 105
        }
      ]
    },
    {
      "cell_type": "markdown",
      "metadata": {
        "id": "hDTtOwucwtS2"
      },
      "source": [
        "# Preprocessing"
      ]
    },
    {
      "cell_type": "code",
      "metadata": {
        "execution": {
          "iopub.status.busy": "2021-07-16T14:35:13.048751Z",
          "iopub.execute_input": "2021-07-16T14:35:13.049150Z",
          "iopub.status.idle": "2021-07-16T14:35:13.057579Z",
          "shell.execute_reply.started": "2021-07-16T14:35:13.049111Z",
          "shell.execute_reply": "2021-07-16T14:35:13.056724Z"
        },
        "trusted": true,
        "id": "QOlUvYgNwtS2"
      },
      "source": [
        "def clean_text(text):\n",
        "    text = str(text).lower()\n",
        "    text = re.sub('\\[.*?\\]', '', text)\n",
        "    text = re.sub('https?://\\S+|www\\.\\S+', '', text)\n",
        "    text = re.sub('<.*?>+', '', text)\n",
        "    text = re.sub('[%s]' % re.escape(string.punctuation), '', text)\n",
        "    text = re.sub('\\n', '', text)\n",
        "    text = re.sub('\\w*\\d\\w*', '', text)\n",
        "    return text"
      ],
      "execution_count": 106,
      "outputs": []
    },
    {
      "cell_type": "code",
      "metadata": {
        "execution": {
          "iopub.status.busy": "2021-07-16T14:35:13.058796Z",
          "iopub.execute_input": "2021-07-16T14:35:13.059233Z",
          "iopub.status.idle": "2021-07-16T14:35:13.069468Z",
          "shell.execute_reply.started": "2021-07-16T14:35:13.059182Z",
          "shell.execute_reply": "2021-07-16T14:35:13.068427Z"
        },
        "trusted": true,
        "colab": {
          "base_uri": "https://localhost:8080/"
        },
        "id": "OyamTDcIwtS3",
        "outputId": "ca062103-9161-472c-fac5-276543b1f0d2"
      },
      "source": [
        "nltk.download('stopwords')\n",
        "stop_words = stopwords.words('english')\n",
        "more_stopwords = ['u', 'im', 'c']\n",
        "stop_words = stop_words + more_stopwords\n",
        "\n",
        "def remove_stopwords(text):\n",
        "    text = ' '.join(word for word in text.split(' ') if word not in stop_words)\n",
        "    return text"
      ],
      "execution_count": 107,
      "outputs": [
        {
          "output_type": "stream",
          "text": [
            "[nltk_data] Downloading package stopwords to /root/nltk_data...\n",
            "[nltk_data]   Package stopwords is already up-to-date!\n"
          ],
          "name": "stdout"
        }
      ]
    },
    {
      "cell_type": "code",
      "metadata": {
        "execution": {
          "iopub.status.busy": "2021-07-16T14:35:13.070915Z",
          "iopub.execute_input": "2021-07-16T14:35:13.071290Z",
          "iopub.status.idle": "2021-07-16T14:35:13.078905Z",
          "shell.execute_reply.started": "2021-07-16T14:35:13.071254Z",
          "shell.execute_reply": "2021-07-16T14:35:13.078099Z"
        },
        "trusted": true,
        "id": "iMN0-sAWwtS5"
      },
      "source": [
        "stemmer = nltk.SnowballStemmer(\"english\")\n",
        "\n",
        "def stemm_text(text):\n",
        "    text = ' '.join(stemmer.stem(word) for word in text.split(' '))\n",
        "    return text"
      ],
      "execution_count": 108,
      "outputs": []
    },
    {
      "cell_type": "code",
      "metadata": {
        "execution": {
          "iopub.status.busy": "2021-07-16T14:35:13.082431Z",
          "iopub.execute_input": "2021-07-16T14:35:13.082863Z",
          "iopub.status.idle": "2021-07-16T14:35:13.090056Z",
          "shell.execute_reply.started": "2021-07-16T14:35:13.082831Z",
          "shell.execute_reply": "2021-07-16T14:35:13.089218Z"
        },
        "trusted": true,
        "id": "-XCkF3x2wtS6"
      },
      "source": [
        "def preprocess_data(text, strip=False):\n",
        "    # Clean puntuation, urls, and so on\n",
        "    text = clean_text(text)\n",
        "    # Remove stopwords\n",
        "    #text = ' '.join(word for word in text.split(' ') if word not in stop_words)\n",
        "    # Stemm all the words in the sentence\n",
        "    text = ' '.join(stemmer.stem(word) for word in text.split(' '))\n",
        "    \n",
        "    if strip:\n",
        "        text = text.strip()\n",
        "    \n",
        "    return text"
      ],
      "execution_count": 109,
      "outputs": []
    },
    {
      "cell_type": "code",
      "metadata": {
        "execution": {
          "iopub.status.busy": "2021-07-16T14:35:13.092122Z",
          "iopub.execute_input": "2021-07-16T14:35:13.092513Z",
          "iopub.status.idle": "2021-07-16T14:35:14.640363Z",
          "shell.execute_reply.started": "2021-07-16T14:35:13.092474Z",
          "shell.execute_reply": "2021-07-16T14:35:14.639575Z"
        },
        "trusted": true,
        "colab": {
          "base_uri": "https://localhost:8080/",
          "height": 0
        },
        "id": "pWb7qdxGwtS6",
        "outputId": "68690327-2938-4629-8f56-0193cd1337f6"
      },
      "source": [
        "df['excerpt'] = df['excerpt'].apply(preprocess_data)\n",
        "df.head()"
      ],
      "execution_count": 110,
      "outputs": [
        {
          "output_type": "execute_result",
          "data": {
            "text/html": [
              "<div>\n",
              "<style scoped>\n",
              "    .dataframe tbody tr th:only-of-type {\n",
              "        vertical-align: middle;\n",
              "    }\n",
              "\n",
              "    .dataframe tbody tr th {\n",
              "        vertical-align: top;\n",
              "    }\n",
              "\n",
              "    .dataframe thead th {\n",
              "        text-align: right;\n",
              "    }\n",
              "</style>\n",
              "<table border=\"1\" class=\"dataframe\">\n",
              "  <thead>\n",
              "    <tr style=\"text-align: right;\">\n",
              "      <th></th>\n",
              "      <th>id</th>\n",
              "      <th>url_legal</th>\n",
              "      <th>license</th>\n",
              "      <th>excerpt</th>\n",
              "      <th>target</th>\n",
              "      <th>standard_error</th>\n",
              "    </tr>\n",
              "  </thead>\n",
              "  <tbody>\n",
              "    <tr>\n",
              "      <th>0</th>\n",
              "      <td>c12129c31</td>\n",
              "      <td>NaN</td>\n",
              "      <td>NaN</td>\n",
              "      <td>when the young peopl return to the ballroom it...</td>\n",
              "      <td>-0.340259</td>\n",
              "      <td>0.464009</td>\n",
              "    </tr>\n",
              "    <tr>\n",
              "      <th>1</th>\n",
              "      <td>85aa80a4c</td>\n",
              "      <td>NaN</td>\n",
              "      <td>NaN</td>\n",
              "      <td>all through dinner time mrs fayr was somewhat ...</td>\n",
              "      <td>-0.315372</td>\n",
              "      <td>0.480805</td>\n",
              "    </tr>\n",
              "    <tr>\n",
              "      <th>2</th>\n",
              "      <td>b69ac6792</td>\n",
              "      <td>NaN</td>\n",
              "      <td>NaN</td>\n",
              "      <td>as roger had predict the snow depart as quick ...</td>\n",
              "      <td>-0.580118</td>\n",
              "      <td>0.476676</td>\n",
              "    </tr>\n",
              "    <tr>\n",
              "      <th>3</th>\n",
              "      <td>dd1000b26</td>\n",
              "      <td>NaN</td>\n",
              "      <td>NaN</td>\n",
              "      <td>and outsid befor the palac a great garden was ...</td>\n",
              "      <td>-1.054013</td>\n",
              "      <td>0.450007</td>\n",
              "    </tr>\n",
              "    <tr>\n",
              "      <th>4</th>\n",
              "      <td>37c1b32fb</td>\n",
              "      <td>NaN</td>\n",
              "      <td>NaN</td>\n",
              "      <td>onc upon a time there were three bear who live...</td>\n",
              "      <td>0.247197</td>\n",
              "      <td>0.510845</td>\n",
              "    </tr>\n",
              "  </tbody>\n",
              "</table>\n",
              "</div>"
            ],
            "text/plain": [
              "          id url_legal  ...    target standard_error\n",
              "0  c12129c31       NaN  ... -0.340259       0.464009\n",
              "1  85aa80a4c       NaN  ... -0.315372       0.480805\n",
              "2  b69ac6792       NaN  ... -0.580118       0.476676\n",
              "3  dd1000b26       NaN  ... -1.054013       0.450007\n",
              "4  37c1b32fb       NaN  ...  0.247197       0.510845\n",
              "\n",
              "[5 rows x 6 columns]"
            ]
          },
          "metadata": {
            "tags": []
          },
          "execution_count": 110
        }
      ]
    },
    {
      "cell_type": "markdown",
      "metadata": {
        "id": "9L2WpawrwtS7"
      },
      "source": [
        "# Bert Dataset"
      ]
    },
    {
      "cell_type": "code",
      "metadata": {
        "execution": {
          "iopub.status.busy": "2021-07-16T14:35:14.641767Z",
          "iopub.execute_input": "2021-07-16T14:35:14.642128Z",
          "iopub.status.idle": "2021-07-16T14:35:14.654353Z",
          "shell.execute_reply.started": "2021-07-16T14:35:14.642090Z",
          "shell.execute_reply": "2021-07-16T14:35:14.653347Z"
        },
        "trusted": true,
        "id": "jqPPON4NwtS7"
      },
      "source": [
        "class BertDataset(nn.Module):\n",
        "    def __init__(self, df, tokenizer, max_len=128):\n",
        "        self.excerpt = df['excerpt'].to_numpy()\n",
        "        self.max_len = max_len\n",
        "        self.tokenizer = tokenizer\n",
        "    \n",
        "    def __getitem__(self,idx):\n",
        "        encode = self.tokenizer(\n",
        "            self.excerpt[idx],\n",
        "            return_tensors='pt',\n",
        "            max_length=self.max_len,\n",
        "            padding='max_length',\n",
        "            truncation=True\n",
        "        )\n",
        "        return encode\n",
        "    \n",
        "    def __len__(self):\n",
        "        return len(self.excerpt)\n",
        "    \n",
        "\n",
        "def get_embeddings(df, path, plot_losses=True, verbose=True):\n",
        "    device = torch.device(\"cuda\" if torch.cuda.is_available() else \"cpu\")\n",
        "    print(f\"{device} is used\")\n",
        "            \n",
        "    MODEL_PATH = path\n",
        "    model = RobertaModel.from_pretrained(MODEL_PATH, num_labels=1)\n",
        "    tokenizer = RobertaTokenizer.from_pretrained(MODEL_PATH)\n",
        "    model.to(device)\n",
        "    model.eval()\n",
        "\n",
        "    ds = BertDataset(df, tokenizer, config['max_len'])\n",
        "    dl = DataLoader(\n",
        "        ds,\n",
        "        batch_size=config[\"batch_size\"],\n",
        "        shuffle=False,\n",
        "        num_workers = 4,\n",
        "        pin_memory=True,\n",
        "        drop_last=False\n",
        "    )\n",
        "\n",
        "    embeddings = list()\n",
        "    with torch.no_grad():\n",
        "        for i, inputs in progress_bar(list(enumerate(dl))):\n",
        "            inputs = {key:val.reshape(val.shape[0], -1).to(device) for key, val in inputs.items()}\n",
        "            outputs = model(**inputs)\n",
        "            outputs = outputs[0][:, 0].detach().cpu().numpy()\n",
        "            embeddings.extend(outputs)\n",
        "            \n",
        "    return np.array(embeddings)"
      ],
      "execution_count": 111,
      "outputs": []
    },
    {
      "cell_type": "code",
      "metadata": {
        "execution": {
          "iopub.status.busy": "2021-07-16T14:35:14.656257Z",
          "iopub.execute_input": "2021-07-16T14:35:14.656755Z",
          "iopub.status.idle": "2021-07-16T14:35:14.665745Z",
          "shell.execute_reply.started": "2021-07-16T14:35:14.656716Z",
          "shell.execute_reply": "2021-07-16T14:35:14.664911Z"
        },
        "trusted": true,
        "id": "GhTO3WgGwtS8"
      },
      "source": [
        "def seed_everything(seed=42):\n",
        "    random.seed(seed)\n",
        "    os.environ['PYTHONASSEED'] = str(seed)\n",
        "    np.random.seed(seed)\n",
        "    torch.manual_seed(seed)\n",
        "    torch.cuda.manual_seed(seed)\n",
        "    torch.backends.cudnn.deterministic = True\n",
        "    torch.backends.cudnn.benchmark = True"
      ],
      "execution_count": 112,
      "outputs": []
    },
    {
      "cell_type": "code",
      "metadata": {
        "execution": {
          "iopub.status.busy": "2021-07-16T14:35:14.667228Z",
          "iopub.execute_input": "2021-07-16T14:35:14.667837Z",
          "iopub.status.idle": "2021-07-16T14:35:57.017485Z",
          "shell.execute_reply.started": "2021-07-16T14:35:14.667776Z",
          "shell.execute_reply": "2021-07-16T14:35:57.016250Z"
        },
        "trusted": true,
        "colab": {
          "base_uri": "https://localhost:8080/",
          "height": 0
        },
        "id": "e0FSzp3_wtS9",
        "outputId": "ad9c2084-20df-463b-dc66-8e82d66090bb"
      },
      "source": [
        "config = {\n",
        "    'batch_size': 128,\n",
        "    'max_len': 256,\n",
        "    'seed': 42,\n",
        "}\n",
        "seed_everything(seed=config['seed'])\n",
        "\n",
        "train_embeddings =  get_embeddings(df,'roberta-base')\n",
        "test_embeddings = get_embeddings(test_df,'roberta-base')"
      ],
      "execution_count": 113,
      "outputs": [
        {
          "output_type": "stream",
          "text": [
            "cuda is used\n"
          ],
          "name": "stdout"
        },
        {
          "output_type": "stream",
          "text": [
            "/usr/local/lib/python3.7/dist-packages/torch/utils/data/dataloader.py:481: UserWarning: This DataLoader will create 4 worker processes in total. Our suggested max number of worker in current system is 2, which is smaller than what this DataLoader is going to create. Please be aware that excessive worker creation might get DataLoader running slow or even freeze, lower the worker number to avoid potential slowness/freeze if necessary.\n",
            "  cpuset_checked))\n"
          ],
          "name": "stderr"
        },
        {
          "output_type": "display_data",
          "data": {
            "text/html": [
              "\n",
              "    <div>\n",
              "        <style>\n",
              "            /* Turns off some styling */\n",
              "            progress {\n",
              "                /* gets rid of default border in Firefox and Opera. */\n",
              "                border: none;\n",
              "                /* Needs to be in here for Safari polyfill so background images work as expected. */\n",
              "                background-size: auto;\n",
              "            }\n",
              "            .progress-bar-interrupted, .progress-bar-interrupted::-webkit-progress-bar {\n",
              "                background: #F44336;\n",
              "            }\n",
              "        </style>\n",
              "      <progress value='23' class='' max='23' style='width:300px; height:20px; vertical-align: middle;'></progress>\n",
              "      100.00% [23/23 00:50<00:00]\n",
              "    </div>\n",
              "    "
            ],
            "text/plain": [
              "<IPython.core.display.HTML object>"
            ]
          },
          "metadata": {
            "tags": []
          }
        },
        {
          "output_type": "stream",
          "text": [
            "cuda is used\n"
          ],
          "name": "stdout"
        },
        {
          "output_type": "display_data",
          "data": {
            "text/html": [
              "\n",
              "    <div>\n",
              "        <style>\n",
              "            /* Turns off some styling */\n",
              "            progress {\n",
              "                /* gets rid of default border in Firefox and Opera. */\n",
              "                border: none;\n",
              "                /* Needs to be in here for Safari polyfill so background images work as expected. */\n",
              "                background-size: auto;\n",
              "            }\n",
              "            .progress-bar-interrupted, .progress-bar-interrupted::-webkit-progress-bar {\n",
              "                background: #F44336;\n",
              "            }\n",
              "        </style>\n",
              "      <progress value='1' class='' max='1' style='width:300px; height:20px; vertical-align: middle;'></progress>\n",
              "      100.00% [1/1 00:00<00:00]\n",
              "    </div>\n",
              "    "
            ],
            "text/plain": [
              "<IPython.core.display.HTML object>"
            ]
          },
          "metadata": {
            "tags": []
          }
        }
      ]
    },
    {
      "cell_type": "markdown",
      "metadata": {
        "id": "LKzzpw7WwtTA"
      },
      "source": [
        "# Tf-idf, Wordcounts"
      ]
    },
    {
      "cell_type": "code",
      "metadata": {
        "execution": {
          "iopub.status.busy": "2021-07-16T14:36:01.636436Z",
          "iopub.execute_input": "2021-07-16T14:36:01.637046Z",
          "iopub.status.idle": "2021-07-16T14:36:02.189389Z",
          "shell.execute_reply.started": "2021-07-16T14:36:01.637002Z",
          "shell.execute_reply": "2021-07-16T14:36:02.188337Z"
        },
        "trusted": true,
        "colab": {
          "base_uri": "https://localhost:8080/",
          "height": 0
        },
        "id": "8D12XcZCwtTB",
        "outputId": "b895450f-80e2-44f5-bf0c-087ab07f34e8"
      },
      "source": [
        "vectorizer = TfidfVectorizer(max_features=1000)\n",
        "\n",
        "train_word_tf_idfs = vectorizer.fit_transform(df['excerpt'].values).toarray()\n",
        "train_word_tf_idfs = pd.DataFrame(train_word_tf_idfs)\n",
        "train_word_tf_idfs.columns = vectorizer.get_feature_names()\n",
        "\n",
        "test_word_tf_idfs = vectorizer.fit_transform(test_df['excerpt'].values).toarray()\n",
        "test_word_tf_idfs = pd.DataFrame(test_word_tf_idfs)\n",
        "test_word_tf_idfs.columns = vectorizer.get_feature_names()\n",
        "\n",
        "def count_words(df):\n",
        "    word_counts = []\n",
        "    for sentence in progress_bar(df['excerpt']):\n",
        "        sentence = re.sub(\"[^a-zA-Z]\", \" \", sentence)\n",
        "        \n",
        "        words = sentence.split()\n",
        "        count = len(words)\n",
        "        word_counts.append(count)\n",
        "        \n",
        "    return word_counts\n",
        "\n",
        "df['count_words'] = count_words(df)\n",
        "test_df['count_words'] = count_words(test_df)"
      ],
      "execution_count": 114,
      "outputs": [
        {
          "output_type": "display_data",
          "data": {
            "text/html": [
              "\n",
              "    <div>\n",
              "        <style>\n",
              "            /* Turns off some styling */\n",
              "            progress {\n",
              "                /* gets rid of default border in Firefox and Opera. */\n",
              "                border: none;\n",
              "                /* Needs to be in here for Safari polyfill so background images work as expected. */\n",
              "                background-size: auto;\n",
              "            }\n",
              "            .progress-bar-interrupted, .progress-bar-interrupted::-webkit-progress-bar {\n",
              "                background: #F44336;\n",
              "            }\n",
              "        </style>\n",
              "      <progress value='2834' class='' max='2834' style='width:300px; height:20px; vertical-align: middle;'></progress>\n",
              "      100.00% [2834/2834 00:00<00:00]\n",
              "    </div>\n",
              "    "
            ],
            "text/plain": [
              "<IPython.core.display.HTML object>"
            ]
          },
          "metadata": {
            "tags": []
          }
        },
        {
          "output_type": "display_data",
          "data": {
            "text/html": [
              "\n",
              "    <div>\n",
              "        <style>\n",
              "            /* Turns off some styling */\n",
              "            progress {\n",
              "                /* gets rid of default border in Firefox and Opera. */\n",
              "                border: none;\n",
              "                /* Needs to be in here for Safari polyfill so background images work as expected. */\n",
              "                background-size: auto;\n",
              "            }\n",
              "            .progress-bar-interrupted, .progress-bar-interrupted::-webkit-progress-bar {\n",
              "                background: #F44336;\n",
              "            }\n",
              "        </style>\n",
              "      <progress value='7' class='' max='7' style='width:300px; height:20px; vertical-align: middle;'></progress>\n",
              "      100.00% [7/7 00:00<00:00]\n",
              "    </div>\n",
              "    "
            ],
            "text/plain": [
              "<IPython.core.display.HTML object>"
            ]
          },
          "metadata": {
            "tags": []
          }
        }
      ]
    },
    {
      "cell_type": "markdown",
      "metadata": {
        "id": "0Hom59USwtTC"
      },
      "source": [
        "# Text matrix"
      ]
    },
    {
      "cell_type": "code",
      "metadata": {
        "execution": {
          "iopub.status.busy": "2021-07-16T14:36:16.486333Z",
          "iopub.execute_input": "2021-07-16T14:36:16.486706Z",
          "iopub.status.idle": "2021-07-16T14:36:19.282158Z",
          "shell.execute_reply.started": "2021-07-16T14:36:16.486670Z",
          "shell.execute_reply": "2021-07-16T14:36:19.281257Z"
        },
        "trusted": true,
        "id": "o-xknphxwtTC"
      },
      "source": [
        "M_train, M_test = df['excerpt'], test_df['excerpt']\n",
        "\n",
        "texts_train, texts_test = M_train, M_test\n",
        "tokenizer = Tokenizer()\n",
        "tokenizer.fit_on_texts(texts_train)\n",
        "tokenizer.fit_on_texts(texts_test)\n",
        "\n",
        "matrix1 = tokenizer.texts_to_matrix(texts_train, \"binary\")\n",
        "matrix2 = tokenizer.texts_to_matrix(texts_train, \"count\")\n",
        "matrix3 = tokenizer.texts_to_matrix(texts_train, \"tfidf\")\n",
        "M1_train = pd.DataFrame(matrix1)\n",
        "M2_train = pd.DataFrame(matrix2)\n",
        "M3_train = pd.DataFrame(matrix3)\n",
        "\n",
        "matrix1 = tokenizer.texts_to_matrix(texts_test, \"binary\")\n",
        "matrix2 = tokenizer.texts_to_matrix(texts_test, \"count\")\n",
        "matrix3 = tokenizer.texts_to_matrix(texts_test, \"tfidf\")\n",
        "M1_test = pd.DataFrame(matrix1)\n",
        "M2_test = pd.DataFrame(matrix2)\n",
        "M3_test = pd.DataFrame(matrix3)"
      ],
      "execution_count": 115,
      "outputs": []
    },
    {
      "cell_type": "markdown",
      "metadata": {
        "id": "X-cc4vCLwtTD"
      },
      "source": [
        "# Get Dataframe"
      ]
    },
    {
      "cell_type": "code",
      "metadata": {
        "execution": {
          "iopub.status.busy": "2021-07-16T14:36:48.470618Z",
          "iopub.execute_input": "2021-07-16T14:36:48.471169Z",
          "iopub.status.idle": "2021-07-16T14:36:52.640475Z",
          "shell.execute_reply.started": "2021-07-16T14:36:48.471134Z",
          "shell.execute_reply": "2021-07-16T14:36:52.639607Z"
        },
        "trusted": true,
        "id": "gpy-fWzHwtTD"
      },
      "source": [
        "X_train = pd.DataFrame(train_embeddings)\n",
        "X_train = pd.concat([X_train, readability_train[['fre', 'smog', 'dcrs', 'dw']], df['count_words'], M3_train], axis=1)\n",
        "\n",
        "X_test = pd.DataFrame(test_embeddings)\n",
        "X_test = pd.concat([X_test, readability_test[['fre', 'smog', 'dcrs', 'dw']], test_df['count_words'], M3_test], axis=1)\n",
        "\n",
        "train_columns = X_train.columns.tolist()\n",
        "test_columns = X_test.columns.tolist()\n",
        "\n",
        "#diff_columns = list(set(test_columns) - set(train_columns))\n",
        "#X_train = X_train.reindex(columns = train_columns + diff_columns)\n",
        "\n",
        "#diff_columns = list(set(train_columns) - set(test_columns))\n",
        "#X_test = X_test.reindex(columns = test_columns + diff_columns)"
      ],
      "execution_count": 123,
      "outputs": []
    },
    {
      "cell_type": "code",
      "metadata": {
        "execution": {
          "iopub.status.busy": "2021-07-16T14:37:20.472938Z",
          "iopub.execute_input": "2021-07-16T14:37:20.473293Z",
          "iopub.status.idle": "2021-07-16T14:37:20.477898Z",
          "shell.execute_reply.started": "2021-07-16T14:37:20.473259Z",
          "shell.execute_reply": "2021-07-16T14:37:20.476614Z"
        },
        "trusted": true,
        "id": "XfCPlqjowtTE"
      },
      "source": [
        "y_train = df['target']"
      ],
      "execution_count": 124,
      "outputs": []
    },
    {
      "cell_type": "code",
      "metadata": {
        "execution": {
          "iopub.status.busy": "2021-07-16T14:37:24.035223Z",
          "iopub.execute_input": "2021-07-16T14:37:24.035663Z",
          "iopub.status.idle": "2021-07-16T14:37:26.130253Z",
          "shell.execute_reply.started": "2021-07-16T14:37:24.035621Z",
          "shell.execute_reply": "2021-07-16T14:37:26.129456Z"
        },
        "trusted": true,
        "id": "LKdpGl0zwtTE"
      },
      "source": [
        "train = pd.concat([X_train, y_train], axis=1)"
      ],
      "execution_count": 125,
      "outputs": []
    },
    {
      "cell_type": "markdown",
      "metadata": {
        "id": "BPY0JvAgwtTE"
      },
      "source": [
        "# K-fold"
      ]
    },
    {
      "cell_type": "code",
      "metadata": {
        "execution": {
          "iopub.status.busy": "2021-07-16T14:37:40.889110Z",
          "iopub.execute_input": "2021-07-16T14:37:40.889467Z"
        },
        "trusted": true,
        "id": "KziImnEOwtTF"
      },
      "source": [
        "def create_folds(data, num_splits):\n",
        "    # we create a new column called kfold and fill it with -1\n",
        "    data[\"kfold\"] = -1\n",
        "    \n",
        "    # the next step is to randomize the rows of the data\n",
        "    data = data.sample(frac=1).reset_index(drop=True)\n",
        "\n",
        "    # calculate number of bins by Sturge's rule\n",
        "    # I take the floor of the value, you can also\n",
        "    # just round it\n",
        "    num_bins = int(np.floor(1 + np.log2(len(data))))\n",
        "    \n",
        "    # bin targets\n",
        "    data.loc[:, \"bins\"] = pd.cut(\n",
        "        data[\"target\"], bins=num_bins, labels=False\n",
        "    )\n",
        "    \n",
        "    # initiate the kfold class from model_selection module\n",
        "    kf = StratifiedKFold(n_splits=num_splits)\n",
        "    \n",
        "    # fill the new kfold column\n",
        "    # note that, instead of targets, we use bins!\n",
        "    for f, (t_, v_) in enumerate(kf.split(X=data, y=data.bins.values)):\n",
        "        data.loc[v_, 'kfold'] = f\n",
        "    \n",
        "    # drop the bins column\n",
        "    data = data.drop(\"bins\", axis=1)\n",
        "\n",
        "    # return dataframe with folds\n",
        "    return data\n",
        "\n",
        "\n",
        "# create folds\n",
        "train = create_folds(train, num_splits=5)"
      ],
      "execution_count": 126,
      "outputs": []
    },
    {
      "cell_type": "code",
      "metadata": {
        "execution": {
          "iopub.status.busy": "2021-07-16T14:36:02.624324Z",
          "iopub.status.idle": "2021-07-16T14:36:02.624963Z"
        },
        "trusted": true,
        "id": "QJ6RcW-PwtTF"
      },
      "source": [
        "y_train = train[['target', 'kfold']]\n",
        "X_train = train.drop(['target'], axis=1)"
      ],
      "execution_count": 127,
      "outputs": []
    },
    {
      "cell_type": "markdown",
      "metadata": {
        "id": "KMoHPE5gwtTG"
      },
      "source": [
        "# Run Model"
      ]
    },
    {
      "cell_type": "code",
      "metadata": {
        "execution": {
          "iopub.status.busy": "2021-07-16T14:36:02.631934Z",
          "iopub.status.idle": "2021-07-16T14:36:02.632599Z"
        },
        "trusted": true,
        "colab": {
          "base_uri": "https://localhost:8080/"
        },
        "id": "66IQQMLjwtTG",
        "outputId": "780c46b9-5acf-4cbc-9449-9cee6cc5647b"
      },
      "source": [
        "params = {\n",
        "    'boosting_type': 'gbdt', #\n",
        "    'metric': 'rmse',\n",
        "    'objective': 'regression',\n",
        "    'seed': 42, #\n",
        "    'learning_rate': 0.01, #\n",
        "    \"n_jobs\": -1,\n",
        "    'max_depth': 4, #\n",
        "    \"verbose\": -1\n",
        "}\n",
        "\n",
        "pred = np.zeros(X_test.shape[0])\n",
        "rmses = []\n",
        "\n",
        "for fold in range(5):\n",
        "    x_tr = X_train[X_train.kfold != fold].reset_index(drop=True).drop(['kfold'], axis=1)\n",
        "    x_va = X_train[X_train.kfold == fold].reset_index(drop=True).drop(['kfold'], axis=1)\n",
        "    y_tr = y_train[y_train.kfold != fold].reset_index(drop=True).drop(['kfold'], axis=1)\n",
        "    y_va = y_train[y_train.kfold == fold].reset_index(drop=True).drop(['kfold'], axis=1)\n",
        "\n",
        "    train_set = lgb.Dataset(x_tr, y_tr)\n",
        "    val_set = lgb.Dataset(x_va, y_va, reference=train_set)\n",
        "\n",
        "    model = lgb.train(\n",
        "        params,\n",
        "        train_set, \n",
        "        num_boost_round=10000,\n",
        "        early_stopping_rounds=100,\n",
        "        valid_sets=[train_set, val_set], \n",
        "        verbose_eval=-1\n",
        "    )\n",
        "\n",
        "    y_pred = model.predict(x_va)\n",
        "    rmse = np.sqrt(mse(y_va, y_pred))\n",
        "    rmses.append(rmse)\n",
        "    \n",
        "    tmp_pred = model.predict(X_test)\n",
        "    pred += tmp_pred / 5\n",
        "    \n",
        "print(\"\\n\", \"Mean Fold RMSE:\", np.mean(rmses))"
      ],
      "execution_count": 129,
      "outputs": [
        {
          "output_type": "stream",
          "text": [
            "Training until validation scores don't improve for 100 rounds.\n",
            "Early stopping, best iteration is:\n",
            "[3175]\ttraining's rmse: 0.406358\tvalid_1's rmse: 0.623629\n",
            "Training until validation scores don't improve for 100 rounds.\n",
            "Early stopping, best iteration is:\n",
            "[4482]\ttraining's rmse: 0.355387\tvalid_1's rmse: 0.636776\n",
            "Training until validation scores don't improve for 100 rounds.\n",
            "Early stopping, best iteration is:\n",
            "[4028]\ttraining's rmse: 0.366727\tvalid_1's rmse: 0.64384\n",
            "Training until validation scores don't improve for 100 rounds.\n",
            "Early stopping, best iteration is:\n",
            "[2694]\ttraining's rmse: 0.424723\tvalid_1's rmse: 0.652254\n",
            "Training until validation scores don't improve for 100 rounds.\n",
            "Early stopping, best iteration is:\n",
            "[3325]\ttraining's rmse: 0.397707\tvalid_1's rmse: 0.624418\n",
            "\n",
            " Mean Fold RMSE: 0.6361833655101314\n"
          ],
          "name": "stdout"
        }
      ]
    }
  ]
}